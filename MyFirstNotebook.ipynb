{
  "nbformat": 4,
  "nbformat_minor": 0,
  "metadata": {
    "colab": {
      "name": "MyFirstNotebook.ipynb",
      "provenance": []
    },
    "kernelspec": {
      "name": "python3",
      "display_name": "Python 3"
    }
  },
  "cells": [
    {
      "cell_type": "markdown",
      "metadata": {
        "id": "FeYAzTukdMjo"
      },
      "source": [
        "# La nostalgia del melomano\r\n",
        "\r\n",
        "\r\n",
        "\r\n"
      ]
    },
    {
      "cell_type": "markdown",
      "metadata": {
        "id": "XOHCMSpujsKv"
      },
      "source": [
        "Este es el libro de ejemplo\r\n",
        "\r\n",
        "[Libreria nacional ](https://librerianacional.com/producto/la-nostalgia-del-melomano)\r\n",
        "\r\n",
        "[como aprender markdown](https://markdown.es/)\r\n",
        "\r\n",
        "![guitarra](https://external-content.duckduckgo.com/iu/?u=https%3A%2F%2Ftse1.mm.bing.net%2Fth%3Fid%3DOIP.IT4DPxk3G2GSHbDhLAx92wHaHa%26pid%3DApi&f=1)\r\n",
        "\r\n",
        "*la Musica es increible*\r\n",
        "\r\n",
        "**la Musica es increible**\r\n",
        "\r\n",
        "***la Musica es increible***\r\n",
        "\r\n",
        "> este es un texto que me invente.\r\n",
        "\r\n"
      ]
    },
    {
      "cell_type": "markdown",
      "metadata": {
        "id": "9vURl6TdliHk"
      },
      "source": [
        "# lenguaje latex"
      ]
    },
    {
      "cell_type": "markdown",
      "metadata": {
        "id": "hLCqk43glmXK"
      },
      "source": [
        "el lenguaje latex ese usa colocar ecuacione matematicas de forma profesional.\r\n",
        "\r\n",
        "este es el lenguaje estandar usado por la mayoria de los cientificos del mundo.\r\n",
        "\r\n",
        "\r\n",
        "$$y=x^2$$\r\n",
        "\r\n",
        "$$\\frac{dx}{dt}=kc$$\r\n",
        "\r\n"
      ]
    },
    {
      "cell_type": "code",
      "metadata": {
        "colab": {
          "base_uri": "https://localhost:8080/"
        },
        "id": "zFC5vt9Mjt43",
        "outputId": "aae153fd-5c21-488e-acf9-6113e41f6469"
      },
      "source": [
        "print(\"Hello friend ... hello friend\")"
      ],
      "execution_count": 2,
      "outputs": [
        {
          "output_type": "stream",
          "text": [
            "Hello friend ... hello friend\n"
          ],
          "name": "stdout"
        }
      ]
    }
  ]
}